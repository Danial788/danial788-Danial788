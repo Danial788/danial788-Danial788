{
 "cells": [
  {
   "cell_type": "code",
   "execution_count": 1,
   "metadata": {},
   "outputs": [
    {
     "name": "stdout",
     "output_type": "stream",
     "text": [
      "5\n",
      "John\n"
     ]
    }
   ],
   "source": [
    "x =  5\n",
    "print(x)\n",
    "y = \"John\"\n",
    "print(y)\n"
   ]
  },
  {
   "cell_type": "code",
   "execution_count": 1,
   "metadata": {},
   "outputs": [
    {
     "name": "stdout",
     "output_type": "stream",
     "text": [
      "v\n",
      "a\n",
      "r\n"
     ]
    }
   ],
   "source": [
    "#indexing\n",
    "mix=(\"variable\")# mix:list\n",
    "print(mix[0])\n",
    "print(mix[1])\n",
    "print(mix[2])"
   ]
  },
  {
   "cell_type": "code",
   "execution_count": 2,
   "metadata": {},
   "outputs": [
    {
     "name": "stdout",
     "output_type": "stream",
     "text": [
      "s\n",
      "c\n",
      "h\n"
     ]
    }
   ],
   "source": [
    "#indexing\n",
    "mix=(\"school\")# mix: list\n",
    "print(mix[0])\n",
    "print(mix[1])\n",
    "print(mix[2])"
   ]
  },
  {
   "cell_type": "code",
   "execution_count": 13,
   "metadata": {},
   "outputs": [
    {
     "name": "stdout",
     "output_type": "stream",
     "text": [
      "beauties\n",
      "utenciels\n",
      "3.1\n",
      "41\n",
      "41\n",
      "3.1\n",
      "utenciels\n",
      "beauties\n"
     ]
    }
   ],
   "source": [
    "mix=[\"beauties\", \"utenciels\", 3.1, 41]\n",
    "print(mix[0])\n",
    "print(mix[1])\n",
    "print(mix[2])\n",
    "print(mix[3])\n",
    "print(mix[-1])\n",
    "print(mix[-2])\n",
    "print(mix[-3])\n",
    "print(mix[-4])"
   ]
  },
  {
   "cell_type": "code",
   "execution_count": 26,
   "metadata": {},
   "outputs": [
    {
     "name": "stdout",
     "output_type": "stream",
     "text": [
      "-23\n",
      "234\n",
      "100\n",
      "Basit\n",
      "Badar\n",
      "Danial\n",
      "Danial\n",
      "Badar\n",
      "Basit\n",
      "100\n",
      "234\n",
      "-23\n"
     ]
    }
   ],
   "source": [
    "mix = (\"Danial\", \"Badar\", \"Basit\", \"100\", \"234\", \"-23\")\n",
    "print(mix[-1])\n",
    "print(mix[-2])\n",
    "print(mix[-3])\n",
    "print(mix[-4])\n",
    "print(mix[-5])\n",
    "print(mix[-6])\n",
    "print(mix[0])\n",
    "print(mix[1])\n",
    "print(mix[2])\n",
    "print(mix[3])\n",
    "print(mix[4])\n",
    "print(mix[5])"
   ]
  }
 ],
 "metadata": {
  "kernelspec": {
   "display_name": "Python 3",
   "language": "python",
   "name": "python3"
  },
  "language_info": {
   "codemirror_mode": {
    "name": "ipython",
    "version": 3
   },
   "file_extension": ".py",
   "mimetype": "text/x-python",
   "name": "python",
   "nbconvert_exporter": "python",
   "pygments_lexer": "ipython3",
   "version": "3.12.6"
  }
 },
 "nbformat": 4,
 "nbformat_minor": 2
}
