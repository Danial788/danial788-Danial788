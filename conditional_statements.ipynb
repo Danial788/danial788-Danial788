{
 "cells": [
  {
   "cell_type": "code",
   "execution_count": 3,
   "metadata": {},
   "outputs": [
    {
     "name": "stdout",
     "output_type": "stream",
     "text": [
      "the color is ocean blue\n"
     ]
    }
   ],
   "source": [
    "color = 5\n",
    "if color == 1:\n",
    "    print(\"the color is red\")\n",
    "elif color == 2:\n",
    "    print(\"the color is green\")\n",
    "elif color == 3:\n",
    "    print(\"the color is black\")\n",
    "elif color == 4:\n",
    "    print(\"the color is blue\")\n",
    "elif color == 5:\n",
    "    print(\"the color is ocean blue\")\n",
    "else:\n",
    "    print(\"Invalid Color\")\n"
   ]
  },
  {
   "cell_type": "code",
   "execution_count": null,
   "metadata": {},
   "outputs": [],
   "source": []
  }
 ],
 "metadata": {
  "kernelspec": {
   "display_name": "Python 3",
   "language": "python",
   "name": "python3"
  },
  "language_info": {
   "codemirror_mode": {
    "name": "ipython",
    "version": 3
   },
   "file_extension": ".py",
   "mimetype": "text/x-python",
   "name": "python",
   "nbconvert_exporter": "python",
   "pygments_lexer": "ipython3",
   "version": "3.12.6"
  }
 },
 "nbformat": 4,
 "nbformat_minor": 2
}
