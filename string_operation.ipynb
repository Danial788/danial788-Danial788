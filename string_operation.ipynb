{
 "cells": [
  {
   "cell_type": "code",
   "execution_count": 4,
   "metadata": {},
   "outputs": [],
   "source": [
    "text = \"We are learning python string operations\"\n",
    "#indexing\n",
    "#letter_string = text [-2]\n",
    "#print(letter_string)\n",
    "#slicing\n",
    "#text [smaller_index: greater_index]\n",
    "#sub_string = text[3:7]\n",
    "positive_sub_string = text[23:29]\n",
    "negative_sub_string = text[-18:-11]\n",
    "#string_index = test.index(\"string\")\n",
    "print(negatinve_sub-string)\n"
   ]
  }
 ],
 "metadata": {
  "kernelspec": {
   "display_name": "Python 3",
   "language": "python",
   "name": "python3"
  },
  "language_info": {
   "codemirror_mode": {
    "name": "ipython",
    "version": 3
   },
   "file_extension": ".py",
   "mimetype": "text/x-python",
   "name": "python",
   "nbconvert_exporter": "python",
   "pygments_lexer": "ipython3",
   "version": "3.12.6"
  }
 },
 "nbformat": 4,
 "nbformat_minor": 2
}
